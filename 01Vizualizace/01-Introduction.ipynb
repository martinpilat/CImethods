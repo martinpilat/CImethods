{
 "cells": [
  {
   "cell_type": "markdown",
   "metadata": {},
   "source": [
    "# Contents of the seminar\n",
    "\n",
    "The goal of the seminar is to deepen the understanding of computational intelligence methods and to apply to real data. In the lessons, we will talk about various topics related to computational intelligence.\n",
    "\n",
    "The first part of the semester will be a quick overview of basic machine learning and data science topics, such as data visualization, model evaluation, etc. In the rest of the semester we will cover more advanced topics, including new developments in AI.\n",
    "\n",
    "## Credit requirements\n",
    "\n",
    "The credit is awarded for team work in the seminar. There are two projects that you should work on in small groups (2-4 students). The first project is on data visualization and its goal is to visualize some non-trivial data (of your chosing) in such a way that you are able to show something interesting in them (\"tell a story\"). The other project should apply computational intelligence methods to some non-trivial problem, either from machine learning, or from evolutionary algorithms. The results of the projects will be presented in the lessons."
   ]
  }
 ],
 "metadata": {
  "kernelspec": {
   "display_name": "Python 3 (ipykernel)",
   "language": "python",
   "name": "python3"
  },
  "language_info": {
   "codemirror_mode": {
    "name": "ipython",
    "version": 3
   },
   "file_extension": ".py",
   "mimetype": "text/x-python",
   "name": "python",
   "nbconvert_exporter": "python",
   "pygments_lexer": "ipython3",
   "version": "3.12.7"
  }
 },
 "nbformat": 4,
 "nbformat_minor": 4
}
