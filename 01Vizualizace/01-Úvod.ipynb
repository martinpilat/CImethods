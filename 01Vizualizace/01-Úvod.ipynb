{
 "cells": [
  {
   "cell_type": "markdown",
   "metadata": {},
   "source": [
    "# Obsah semináře\n",
    "\n",
    "Cílem semináře je prohloubit pochopení metod výpočetní inteligence a aplikovat ja na reálná (tj. často nepěkná) data. Každý hodina semináře se bude skládat ze dvou částí, na začátku \"krátké\" povídaní o metodách, které se budou probírat na dané hodině a potom vaše práce, kde se pokusíte metody aplikovat na nějaká (vámi zvolená) data.\n",
    "\n",
    "Předběžně plánujeme následující témata, jestli ale máte sami nějaké nápady na další témata, která by vás zajímala, nejte se ozvat a navrhnout je.\n",
    "\n",
    "| Datum  | Obsah                                |\n",
    "|--------|--------------------------------------|\n",
    "| 7. 10. | Vizualizace + vyhodnocení modelů     |\n",
    "| 14. 10.| Extrakce příznaků                    |\n",
    "| 21. 10.| Redukce dat (výběr příznaků)         |\n",
    "| 4. 11. | Lineární modely                      |\n",
    "| 11. 11.| Jádrové metody                       |\n",
    "| 18. 11.| Hluboké sítě (convNet, Stacked AE)   |\n",
    "| 25. 11.| Hluboké sítě (LSTM, word2vec)        |\n",
    "| 2. 12. | Semi-supervised učení                |\n",
    "| 9. 12. | Ansámbly                             |\n",
    "| 16. 12.| Metaučení (tabelace, evoluce)        |\n",
    "| 6. 1.  | Kombinace EA + ML (surrogate modely) |\n",
    "| 13. 1. | CMA-ES + omezující podmínky v EA     |\n",
    "\n",
    "## Podmínky na zápočet\n",
    "\n",
    "Zápočet dostanete za skupinovou práci na semináři. Představa je taková, že budete pracovat v malých skupinkách (2-3 lidi) a každá skupinka cca 4krát za semestr bude mít krátkou (cca 5 minut) prezentaci o tom, co se jim podařilo pomocí metod probíraných v poslední době na cvičeních. Cílem je hlavně se pochlubit tím, co se vám povedlo a zároveň inspirovat ostatní v tom, co se pomocí probíraných metod dá dělat a jakým způsobem ukazovat svoje výsledky."
   ]
  }
 ],
 "metadata": {
  "kernelspec": {
   "display_name": "Python 3",
   "language": "python",
   "name": "python3"
  },
  "language_info": {
   "codemirror_mode": {
    "name": "ipython",
    "version": 3
   },
   "file_extension": ".py",
   "mimetype": "text/x-python",
   "name": "python",
   "nbconvert_exporter": "python",
   "pygments_lexer": "ipython3",
   "version": "3.4.3"
  }
 },
 "nbformat": 4,
 "nbformat_minor": 0
}
