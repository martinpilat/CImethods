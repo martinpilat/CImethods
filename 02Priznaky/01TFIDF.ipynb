{
 "cells": [
  {
   "cell_type": "markdown",
   "metadata": {},
   "source": [
    "##Konstrukce příznaků z textových dokumentů\n",
    "\n",
    "###Bag of words\n",
    "\n",
    "Dokument je reprezentován jako multi-set slov. Při klasifikaci dokumentů se používá frekvence slov jako příznak pro model ML.\n",
    "\n",
    "\n",
    "(1) John likes to watch movies. Mary likes movies too.\n",
    "\n",
    "(2) John also likes to watch football games.\n",
    "\n",
    "[\n",
    "    \"John\",\n",
    "    \"likes\",\n",
    "    \"to\",\n",
    "    \"watch\",\n",
    "    \"movies\",\n",
    "    \"also\",\n",
    "    \"football\",\n",
    "    \"games\",\n",
    "    \"Mary\",\n",
    "    \"too\"\n",
    "]\n",
    "\n",
    "(1) [1, 2, 1, 1, 2, 0, 0, 0, 1, 1]\n",
    "\n",
    "(2) [1, 1, 1, 1, 0, 1, 1, 1, 0, 0]\n",
    "\n",
    "###n-gramy\n",
    "\n",
    "N-gram je definován jako sled n po sobě jdoucích položek (slov, písmen) z dané posloupnosti. Při řešení úloh z oblasti počítačového zpracování přirozeného jazyka se na reprezentaci textu využívají ve většině případů slova nebo n-gramy slov.\n",
    "\n",
    "[\n",
    "    \"John likes\",\n",
    "    \"likes to\",\n",
    "    \"to watch\",\n",
    "    \"watch movies\",\n",
    "    \"Mary likes\",\n",
    "    \"likes movies\",\n",
    "    \"movies too\",\n",
    "]\n",
    "\n",
    "\n",
    "###TF-IDF:  term frequency–inverse document frequency\n",
    "\n",
    "Dokumenty $D = \\{ d_1, d_2, \\ldots, d_n \\}$, termíny $t$\n",
    "\n",
    "TF - frekvence slova v dokumentu (různě škálovaná případně)\n",
    "\n",
    "IDF - logaritmus poměru všech dokumentu ku dokumentům obsahujícím slovo\n",
    "\n",
    "$\\mathrm{tf}(t,d) = \\sum\\limits_{x\\in d} \\mathrm{fr}(x, t)   $\n",
    "\n",
    "$\\mathrm{fr}(x,t) =   \\begin{cases}   1, & \\mbox{if } x = t \\\\   0, & \\mbox{otherwise} \\\\   \\end{cases}   $\n",
    "\n",
    "\n",
    "\n",
    "$\\mathrm{idf}(t) = \\log{\\frac{\\left|D\\right|}{1+\\left|\\{d : t \\in d\\}\\right|}}$  \n",
    "\n",
    "$\\mathrm{tf\\mbox{-}idf}(t) = \\mathrm{tf}(t, d) \\times \\mathrm{idf}(t)  $\n"
   ]
  },
  {
   "cell_type": "code",
   "execution_count": 6,
   "metadata": {
    "collapsed": false
   },
   "outputs": [
    {
     "name": "stdout",
     "output_type": "stream",
     "text": [
      "Slovník:\n",
      " {'blue': 0, 'is': 2, 'sun': 4, 'sky': 3, 'the': 5, 'bright': 1}\n",
      "Frekvenční matice:\n",
      " [[0 1 1 1 1 2]\n",
      " [0 1 0 0 2 2]]\n",
      "IDF:\n",
      " [ 2.09861229  1.          1.40546511  1.40546511  1.          1.        ]\n",
      "TF_IDF:\n",
      " [[ 0.          0.31701073  0.44554752  0.44554752  0.31701073  0.63402146]\n",
      " [ 0.          0.33333333  0.          0.          0.66666667  0.66666667]]\n"
     ]
    }
   ],
   "source": [
    "from sklearn.feature_extraction.text import CountVectorizer\n",
    "train_set = (\"The sky is blue.\", \"The sun is bright.\")\n",
    "test_set = (\"The sun in the sky is bright.\", \"We can see the shining sun, the bright sun.\")\n",
    "\n",
    "count_vectorizer = CountVectorizer()\n",
    "count_vectorizer.fit_transform(train_set)\n",
    "print (\"Slovník:\\n\", count_vectorizer.vocabulary_)\n",
    "freq_term_matrix = count_vectorizer.transform(test_set)\n",
    "print (\"Frekvenční matice:\\n\",freq_term_matrix.todense())\n",
    "\n",
    "from sklearn.feature_extraction.text import TfidfTransformer\n",
    "tfidf = TfidfTransformer(norm=\"l2\")\n",
    "tfidf.fit(freq_term_matrix)\n",
    "print (\"IDF:\\n\", tfidf.idf_)\n",
    "\n",
    "tf_idf_matrix = tfidf.transform(freq_term_matrix)\n",
    "print (\"TF_IDF:\\n\",tf_idf_matrix.todense())\n",
    "\n"
   ]
  },
  {
   "cell_type": "markdown",
   "metadata": {},
   "source": [
    "##Doporučená literatura\n",
    "\n",
    "\n",
    "1. Peter Flach. Machine Learning: The Art and Science of Algorithms that Make Sense of Data. Cambridge University Press. 2012. ISBN 1-107-42222-1\n",
    "\n",
    "2. Christopher Bishop. Pattern recognition and machine learning. Berlin: Springer. 2006. ISBN 0-387-31073-8."
   ]
  },
  {
   "cell_type": "code",
   "execution_count": null,
   "metadata": {
    "collapsed": true
   },
   "outputs": [],
   "source": []
  }
 ],
 "metadata": {
  "kernelspec": {
   "display_name": "Python 3",
   "language": "python",
   "name": "python3"
  },
  "language_info": {
   "codemirror_mode": {
    "name": "ipython",
    "version": 3
   },
   "file_extension": ".py",
   "mimetype": "text/x-python",
   "name": "python",
   "nbconvert_exporter": "python",
   "pygments_lexer": "ipython3",
   "version": "3.4.4"
  }
 },
 "nbformat": 4,
 "nbformat_minor": 0
}
