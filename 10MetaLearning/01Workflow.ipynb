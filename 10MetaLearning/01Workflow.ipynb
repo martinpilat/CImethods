{
 "cells": [
  {
   "cell_type": "markdown",
   "metadata": {},
   "source": [
    "\n",
    "__Workflow selection__\n",
    "\n",
    "Ukázka prohledávání prostoru schémat řešení (workflow). Řešení jsou propojené modely preprocessingu, ansámblů a několika klasifikátorů (acyklické grafy). Pro jejich vnitřní reprezentaci a prohledávání je použito typované genetické programování. Výsledný jedinec pro datovou množinu wilt vypadá takto\n",
    "\n",
    "![wilt](wilt.png)\n",
    "\n",
    "_Křen, Tomáš; Pilát, Martin; Neruda, Roman; \"Evolving Workflow Graphs Using Typed Genetic Programming,\"Computational Intelligence, 2015 IEEE Symposium Series on\", 1407-1414,2015, IEEE Computer Press._\n"
   ]
  },
  {
   "cell_type": "code",
   "execution_count": null,
   "metadata": {
    "collapsed": true
   },
   "outputs": [],
   "source": []
  },
  {
   "cell_type": "code",
   "execution_count": null,
   "metadata": {
    "collapsed": true
   },
   "outputs": [],
   "source": []
  }
 ],
 "metadata": {
  "kernelspec": {
   "display_name": "Python 3",
   "language": "python",
   "name": "python3"
  },
  "language_info": {
   "codemirror_mode": {
    "name": "ipython",
    "version": 3
   },
   "file_extension": ".py",
   "mimetype": "text/x-python",
   "name": "python",
   "nbconvert_exporter": "python",
   "pygments_lexer": "ipython3",
   "version": "3.4.5"
  }
 },
 "nbformat": 4,
 "nbformat_minor": 0
}
